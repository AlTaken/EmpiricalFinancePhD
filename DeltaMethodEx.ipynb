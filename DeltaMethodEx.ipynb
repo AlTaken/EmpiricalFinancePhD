{
 "cells": [
  {
   "cell_type": "markdown",
   "metadata": {},
   "source": [
    "# The Delta Method Applied to the Sharpe Ratio"
   ]
  },
  {
   "cell_type": "code",
   "execution_count": 1,
   "metadata": {},
   "outputs": [
    {
     "data": {
      "text/plain": [
       "NWFn"
      ]
     },
     "execution_count": 1,
     "metadata": {},
     "output_type": "execute_result"
    }
   ],
   "source": [
    "include(\"jlFiles/printmat.jl\")\n",
    "include(\"jlFiles/NWFn.jl\")"
   ]
  },
  {
   "cell_type": "code",
   "execution_count": 2,
   "metadata": {},
   "outputs": [
    {
     "data": {
      "text/plain": [
       "388"
      ]
     },
     "execution_count": 2,
     "metadata": {},
     "output_type": "execute_result"
    }
   ],
   "source": [
    "xx   = readdlm(\"Data/FFmFactorsPs.csv\",',',header=true)\n",
    "x    = xx[1]\n",
    "Rme  = x[:,2]/100\n",
    "T    = size(Rme,1)"
   ]
  },
  {
   "cell_type": "markdown",
   "metadata": {},
   "source": [
    "## Point Estimates of Mean and 2nd Moment"
   ]
  },
  {
   "cell_type": "markdown",
   "metadata": {},
   "source": [
    "Estimate the mean and second moment as usual \n",
    "\n",
    "$$\n",
    "\\begin{align*}\n",
    "\\hat{\\mu}  & =\\frac{1}{T}\\sum_{t=1}^{T}x_{t}\\\\\n",
    "\\hat{\\mu}_{2}  & =\\frac{1}{T}\\sum_{t=1}^{T}x_{t}^{2}\n",
    "\\end{align*}\n",
    "$$\n",
    "\n",
    "Use GMM to estimate the covariance matrix ($V$) of $(\\hat{\\mu},\\hat{\\mu}_{2})$"
   ]
  },
  {
   "cell_type": "code",
   "execution_count": 3,
   "metadata": {},
   "outputs": [
    {
     "name": "stdout",
     "output_type": "stream",
     "text": [
      "\n",
      "[mu mu_2]\n",
      "     0.006     0.002\n",
      "\n",
      "Sample moment conditions, gbar \n",
      "     0.000\n",
      "    -0.000\n",
      "\n",
      "Cov(params)*10000\n",
      "    23.167    -0.770\n",
      "    -0.770     0.198\n",
      "\n"
     ]
    }
   ],
   "source": [
    "mu    = mean(Rme,1)                  #GMM to estimate mean and 2nd moment\n",
    "mu_2  = mean(Rme.^2,1)\n",
    "println(\"\\n\",\"[mu mu_2]\")\n",
    "printmat([mu mu_2])\n",
    "\n",
    "g    = [(Rme .- mu) (Rme.^2 .- mu_2)]    #moment conditions\n",
    "T    = size(g,1)\n",
    "gbar = vec(mean(g,1))                    #vector\n",
    "println(\"Sample moment conditions, gbar \")\n",
    "printmat(gbar)\n",
    "\n",
    "S = NWFn(g,1)                     #Var[sqrt(T)*gbar], Newey-West\n",
    "D = -1\n",
    "V = inv(D*inv(S)*D')              #Var[sqrt(T)*(mu,mu_2)]\n",
    "println(\"Cov(params)*10000\")\n",
    "printmat(V*10000)"
   ]
  },
  {
   "cell_type": "markdown",
   "metadata": {},
   "source": [
    "## The Sharpe Ratio and Its Derivatives"
   ]
  },
  {
   "cell_type": "markdown",
   "metadata": {},
   "source": [
    "The Sharpe ratio and its derivatives (with respect to the parameters of the\n",
    "Sharpe ratio) are\n",
    "\n",
    "$$\n",
    "\\begin{align*}\n",
    "\\frac{\\operatorname*{E}(x)}{\\sigma(x)} &  =\\frac{\\mu}{(\\mu_{2}\n",
    "-\\mu^{2})^{1/2}},\\ \\text{where}\\ \\beta=(\\mu,\\mu_{2})\n",
    "\\end{align*}\n",
    "$$\n",
    "\n",
    "Let $f(\\beta)$ denote the Sharpe ratio where $\\beta$ is a vector of parameters \n",
    "consisting of the mean and the second moment ($\\mu,\\mu_{2}$). The derivates are then\n",
    "\n",
    "$$\n",
    "\\begin{align*}\n",
    "\\frac{\\partial f(\\beta)}{\\partial\\beta^{\\prime}} &  =\\left[\n",
    "\\begin{array}\n",
    "[c]{cc}\n",
    "\\frac{\\mu_{2}}{(\\mu_{2}-\\mu^{2})^{3/2}} & \\frac{-\\mu}{2(\\mu_{2}-\\mu^{2})^{3/2}}\n",
    "\\end{array}\n",
    "\\right]  \n",
    "\\end{align*}\n",
    "$$"
   ]
  },
  {
   "cell_type": "code",
   "execution_count": 4,
   "metadata": {},
   "outputs": [
    {
     "data": {
      "text/plain": [
       "SRFn (generic function with 1 method)"
      ]
     },
     "execution_count": 4,
     "metadata": {},
     "output_type": "execute_result"
    }
   ],
   "source": [
    "function SRFn(par)\n",
    "# SRFn    Calculates the Sharpe ratio from the mean and 2nd moment\n",
    "  mu   = par[1]          #E(Z)\n",
    "  mu_2 = par[2]          #E(Z^2)\n",
    "  s2   = mu_2 - mu.^2\n",
    "  SR   = mu./sqrt(s2)\n",
    "  return SR\n",
    "end"
   ]
  },
  {
   "cell_type": "code",
   "execution_count": 5,
   "metadata": {},
   "outputs": [
    {
     "name": "stdout",
     "output_type": "stream",
     "text": [
      "\n",
      "Analytical derivatives \n",
      "    22.121   -30.957\n",
      "\n"
     ]
    }
   ],
   "source": [
    "                                  #delta method\n",
    "df = [ (mu_2./(mu_2 - mu.^2).^(3/2)) (-mu./(2*(mu_2 - mu.^2).^(3/2)))]\n",
    "println(\"\\nAnalytical derivatives \")\n",
    "printmat(df)"
   ]
  },
  {
   "cell_type": "markdown",
   "metadata": {},
   "source": [
    "## Numerical Derivatives"
   ]
  },
  {
   "cell_type": "markdown",
   "metadata": {},
   "source": [
    "\n",
    "Sometimes, it is cumbersome to code up the analytical derivatives. We can then\n",
    "use a simple forward approximation to calculate numerical derivatives.\n",
    "\n",
    "Consider\n",
    "vector valued function that takes the vector $\\beta=(\\beta_{1},\\beta\n",
    "_{2},...,\\beta_{k})$ as input and produces the vector $[f_{1}(\\beta\n",
    "),f_{2}(\\beta),...,f_{q}(\\beta)]$ as output. A very simple code can be\n",
    "structured as follows: let column $j$ of $\\partial f\\left(  \\beta\\right)\n",
    "/\\partial\\beta^{\\prime}$ be\n",
    "\n",
    "$$\n",
    "\\left[\n",
    "\\begin{array}[c]{c}\n",
    "\\frac{\\partial f_{1}\\left(  \\beta\\right)  }{\\partial\\beta_{j}}\\\\\n",
    "\\vdots\\\\\n",
    "\\frac{\\partial f_{q}\\left(  \\beta\\right)  }{\\partial\\beta_{j}}\n",
    "\\end{array}\n",
    "\\right]  =\\frac{f(\\tilde{\\beta})-f(\\beta)}{\\Delta}\\ \\text{, where } \\ \\tilde{\\beta\n",
    "}=\\beta \\ \\text{ except that } \\ \\tilde{\\beta}_{j}=\\beta_{j}+\\Delta.\n",
    "$$\n",
    "\n",
    "However, you find better methods at http://www.juliadiff.org/"
   ]
  },
  {
   "cell_type": "code",
   "execution_count": 6,
   "metadata": {},
   "outputs": [
    {
     "data": {
      "text/plain": [
       "NumJac (generic function with 2 methods)"
      ]
     },
     "execution_count": 6,
     "metadata": {},
     "output_type": "execute_result"
    }
   ],
   "source": [
    "function NumJac(fun,b0,h=1e-7)           #crude function for numerical derivatives \n",
    "    k  = length(b0)  \n",
    "    y0 = fun(b0)                     \n",
    "    Jac   = fill(NaN,(length(y0),k))\n",
    "    for j = 1:k              \n",
    "        b1    = b0 + 0.0 \n",
    "        b1[j] = b1[j] + h\n",
    "        Jac[:,j]  = (fun(b1)- y0)/h\n",
    "    end    \n",
    "    return Jac\n",
    "end"
   ]
  },
  {
   "cell_type": "code",
   "execution_count": 7,
   "metadata": {},
   "outputs": [
    {
     "name": "stdout",
     "output_type": "stream",
     "text": [
      "\n",
      "Numerical derivatives, just for comparison \n",
      "    22.121   -30.956\n",
      "\n"
     ]
    }
   ],
   "source": [
    "par0 = [mu;mu_2]\n",
    "\n",
    "Jac = NumJac(SRFn,par0)\n",
    "\n",
    "println(\"\\nNumerical derivatives, just for comparison \")\n",
    "printmat(Jac)"
   ]
  },
  {
   "cell_type": "markdown",
   "metadata": {},
   "source": [
    "## Applying the Delta Method to the Sharpe Ratio"
   ]
  },
  {
   "cell_type": "markdown",
   "metadata": {},
   "source": [
    "\n",
    "Recall that if\n",
    "\n",
    "$$\n",
    "\\sqrt{T}(\\hat{\\beta}-\\beta_{0})\\overset{d}{\\rightarrow}N\\left(  0,V_{k\\times k}\\right)  ,\n",
    "$$\n",
    "then the distribution of the function $f(\\hat{\\beta})$ is\n",
    "\n",
    "$$\n",
    "\\sqrt{T}[f(\\hat{\\beta})-f\\left(  \\beta_{0}\\right)  ]\\overset{d}{\\rightarrow\n",
    "}N\\left(  0,\\Lambda_{q\\times q}\\right)  \n",
    "$$\n",
    "\n",
    "with \n",
    "\n",
    "$$\n",
    "\\begin{align*}\n",
    "\\Lambda &  =\\frac{\\partial f\\left(  \\beta_{0}\\right)  }{\\partial\n",
    "\\beta^{^{\\prime}}}V\\frac{\\partial f\\left(  \\beta_{0}\\right)  ^{\\prime}\n",
    "}{\\partial\\beta}, \\ \\text{where } \\ \\frac{\\partial f\\left(  \\beta\\right)\n",
    "}{\\partial\\beta^{\\prime}}=\\left[\n",
    "\\begin{array}[c]{ccc}\n",
    "\\frac{\\partial f_{1}\\left(  \\beta\\right)  }{\\partial\\beta_{1}} & \\cdots &\n",
    "\\frac{\\partial f_{1}\\left(  \\beta\\right)  }{\\partial\\beta_{k}}\\\\\n",
    "\\vdots & \\ddots & \\vdots\\\\\n",
    "\\frac{\\partial f_{q}\\left(  \\beta\\right)  }{\\partial\\beta_{1}} & \\cdots &\n",
    "\\frac{\\partial f_{q}\\left(  \\beta\\right)  }{\\partial\\beta_{k}}\n",
    "\\end{array}\n",
    "\\right]  _{q\\times k}\n",
    "\\end{align*}\n",
    "$$\n"
   ]
  },
  {
   "cell_type": "code",
   "execution_count": 8,
   "metadata": {},
   "outputs": [
    {
     "name": "stdout",
     "output_type": "stream",
     "text": [
      "\n",
      "SR and its Std \n",
      "     0.131     0.057\n",
      "\n",
      "SR and 90% conf band: \n",
      "     0.131     0.037     0.225\n",
      "\n"
     ]
    }
   ],
   "source": [
    "SR0 = SRFn(par0)\n",
    "\n",
    "Std_SR = sqrt.(df*V*df'/T)\n",
    "println(\"\\nSR and its Std \")\n",
    "printmat([SR0 Std_SR])\n",
    "\n",
    "println(\"SR and 90% conf band: \")\n",
    "printmat([SR0 (SR0-1.65*Std_SR) (SR0+1.65*Std_SR)])"
   ]
  },
  {
   "cell_type": "code",
   "execution_count": null,
   "metadata": {
    "collapsed": true
   },
   "outputs": [],
   "source": []
  }
 ],
 "metadata": {
  "anaconda-cloud": {},
  "kernelspec": {
   "display_name": "Julia 0.6.0",
   "language": "julia",
   "name": "julia-0.6"
  },
  "language_info": {
   "file_extension": ".jl",
   "mimetype": "application/julia",
   "name": "julia",
   "version": "0.6.0"
  }
 },
 "nbformat": 4,
 "nbformat_minor": 1
}
