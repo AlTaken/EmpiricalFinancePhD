{
 "cells": [
  {
   "cell_type": "markdown",
   "metadata": {
    "deletable": true,
    "editable": true
   },
   "source": [
    "# Kernel Regression"
   ]
  },
  {
   "cell_type": "markdown",
   "metadata": {
    "deletable": true,
    "editable": true
   },
   "source": [
    "## Loading Packages"
   ]
  },
  {
   "cell_type": "code",
   "execution_count": 1,
   "metadata": {
    "collapsed": false,
    "deletable": true,
    "editable": true
   },
   "outputs": [
    {
     "data": {
      "text/plain": [
       "OlsFn (generic function with 1 method)"
      ]
     },
     "execution_count": 1,
     "metadata": {},
     "output_type": "execute_result"
    }
   ],
   "source": [
    "include(\"jlFiles/printmat.jl\")\n",
    "include(\"jlFiles/excise.jl\")\n",
    "include(\"jlFiles/lagnPs.jl\")\n",
    "include(\"jlFiles/OlsFn.jl\")"
   ]
  },
  {
   "cell_type": "code",
   "execution_count": 2,
   "metadata": {
    "collapsed": false,
    "deletable": true,
    "editable": true
   },
   "outputs": [
    {
     "data": {
      "text/plain": [
       "Plots.GRBackend()"
      ]
     },
     "execution_count": 2,
     "metadata": {},
     "output_type": "execute_result"
    }
   ],
   "source": [
    "using Plots\n",
    "\n",
    "backend = \"gr\"              #\"gr\" (default), \"pyplot\" \n",
    "\n",
    "if backend == \"pyplot\"\n",
    "    pyplot(size=(600,400))\n",
    "else    \n",
    "    gr(size=(600,400))\n",
    "end"
   ]
  },
  {
   "cell_type": "markdown",
   "metadata": {
    "deletable": true,
    "editable": true
   },
   "source": [
    "## Loading Data"
   ]
  },
  {
   "cell_type": "code",
   "execution_count": 3,
   "metadata": {
    "collapsed": false,
    "deletable": true,
    "editable": true
   },
   "outputs": [
    {
     "name": "stdout",
     "output_type": "stream",
     "text": [
      "Sample size: 8324\n"
     ]
    }
   ],
   "source": [
    "xx  = readdlm(\"Data/FFdSizePs.csv\",',',header=true)\n",
    "xx  = xx[1]\n",
    "ymd = xx[:,1]             #[YearMonthDay]\n",
    "R   = xx[:,11]            #returns for the size portfolio we want to study\n",
    "\n",
    "xx  = excise([R lagnPs(R)])             #return and lagged return: dependent variable and regressor\n",
    "y   = xx[:,1]\n",
    "x   = xx[:,2]\n",
    "T   = size(x,1)\n",
    "xx = nothing\n",
    "\n",
    "println(\"Sample size: $T\")"
   ]
  },
  {
   "cell_type": "markdown",
   "metadata": {
    "deletable": true,
    "editable": true
   },
   "source": [
    "\n",
    "A kernel regression is of the form\n",
    "$$\n",
    "\\hat{b}(x)=\\frac{\\sum\\nolimits_{t=1}^{T}w_{t}(x)y_{t}}{\\sum\\nolimits_{t=1}^{T}w_{t}(x)},\n",
    "$$\n",
    "where $w_{t}(x)$ is the weight of observation $t$, defined by a kernel function.\n",
    "\n",
    "The function KernRegNormalFn uses a normal kernel, $N(x,h^{2})$."
   ]
  },
  {
   "cell_type": "code",
   "execution_count": 4,
   "metadata": {
    "collapsed": false,
    "deletable": true,
    "editable": true
   },
   "outputs": [
    {
     "data": {
      "text/plain": [
       "KernRegNormalFn (generic function with 1 method)"
      ]
     },
     "execution_count": 4,
     "metadata": {},
     "output_type": "execute_result"
    }
   ],
   "source": [
    "function KernRegNormalFn(y,x,xGrid,h,vv)\n",
    "\n",
    "  Ngrid = length(xGrid)                  #number of grid points\n",
    "\n",
    "  bHat = fill(NaN,Ngrid)                 #y(t) = b[x(t)] + e(t)\n",
    "\n",
    "  for i = 1:Ngrid                        #loop over elements in xGrid\n",
    "    zi      = (x - xGrid[i])/h\n",
    "    w       = exp.(-zi.^2/2)./(h*sqrt(2*pi))       #gaussian kernel, with \"std\" = h\n",
    "    bHat[i] = sum(w[vv].*y[vv])/sum(w[vv])        #sum over observations (data)\n",
    "  end\n",
    "\n",
    "  return bHat\n",
    "\n",
    "end"
   ]
  },
  {
   "cell_type": "code",
   "execution_count": 5,
   "metadata": {
    "collapsed": false,
    "deletable": true,
    "editable": true
   },
   "outputs": [
    {
     "data": {
      "text/html": [
       "<?xml version=\"1.0\" encoding=\"utf-8\"?>\n",
       "<svg xmlns=\"http://www.w3.org/2000/svg\" xmlns:xlink=\"http://www.w3.org/1999/xlink\" width=\"600\" height=\"400\" viewBox=\"0 0 600 400\">\n",
       "<defs>\n",
       "  <clipPath id=\"clip00\">\n",
       "    <rect x=\"0\" y=\"0\" width=\"600\" height=\"400\"/>\n",
       "  </clipPath>\n",
       "</defs>\n",
       "<polygon clip-path=\"url(#clip00)\" points=\"\n",
       "0,400 600,400 600,0 0,0 \n",
       "  \" fill=\"#ffffff\" fill-opacity=\"1\"/>\n",
       "<defs>\n",
       "  <clipPath id=\"clip01\">\n",
       "    <rect x=\"120\" y=\"0\" width=\"421\" height=\"400\"/>\n",
       "  </clipPath>\n",
       "</defs>\n",
       "<polygon clip-path=\"url(#clip00)\" points=\"\n",
       "39.3701,368.504 592.126,368.504 592.126,7.87402 39.3701,7.87402 \n",
       "  \" fill=\"#ffffff\" fill-opacity=\"1\"/>\n",
       "<defs>\n",
       "  <clipPath id=\"clip02\">\n",
       "    <rect x=\"39\" y=\"7\" width=\"554\" height=\"362\"/>\n",
       "  </clipPath>\n",
       "</defs>\n",
       "<polyline clip-path=\"url(#clip02)\" style=\"stroke:#000000; stroke-width:1; stroke-opacity:0.5; fill:none\" stroke-dasharray=\"1, 2\" points=\"\n",
       "  39.3701,363.094 39.3701,13.2835 \n",
       "  \"/>\n",
       "<polyline clip-path=\"url(#clip02)\" style=\"stroke:#000000; stroke-width:1; stroke-opacity:0.5; fill:none\" stroke-dasharray=\"1, 2\" points=\"\n",
       "  177.559,363.094 177.559,13.2835 \n",
       "  \"/>\n",
       "<polyline clip-path=\"url(#clip02)\" style=\"stroke:#000000; stroke-width:1; stroke-opacity:0.5; fill:none\" stroke-dasharray=\"1, 2\" points=\"\n",
       "  315.748,363.094 315.748,13.2835 \n",
       "  \"/>\n",
       "<polyline clip-path=\"url(#clip02)\" style=\"stroke:#000000; stroke-width:1; stroke-opacity:0.5; fill:none\" stroke-dasharray=\"1, 2\" points=\"\n",
       "  453.937,363.094 453.937,13.2835 \n",
       "  \"/>\n",
       "<polyline clip-path=\"url(#clip02)\" style=\"stroke:#000000; stroke-width:1; stroke-opacity:0.5; fill:none\" stroke-dasharray=\"1, 2\" points=\"\n",
       "  592.126,363.094 592.126,13.2835 \n",
       "  \"/>\n",
       "<polyline clip-path=\"url(#clip02)\" style=\"stroke:#000000; stroke-width:1; stroke-opacity:0.5; fill:none\" stroke-dasharray=\"1, 2\" points=\"\n",
       "  47.6614,368.504 583.835,368.504 \n",
       "  \"/>\n",
       "<polyline clip-path=\"url(#clip02)\" style=\"stroke:#000000; stroke-width:1; stroke-opacity:0.5; fill:none\" stroke-dasharray=\"1, 2\" points=\"\n",
       "  47.6614,278.346 583.835,278.346 \n",
       "  \"/>\n",
       "<polyline clip-path=\"url(#clip02)\" style=\"stroke:#000000; stroke-width:1; stroke-opacity:0.5; fill:none\" stroke-dasharray=\"1, 2\" points=\"\n",
       "  47.6614,188.189 583.835,188.189 \n",
       "  \"/>\n",
       "<polyline clip-path=\"url(#clip02)\" style=\"stroke:#000000; stroke-width:1; stroke-opacity:0.5; fill:none\" stroke-dasharray=\"1, 2\" points=\"\n",
       "  47.6614,98.0315 583.835,98.0315 \n",
       "  \"/>\n",
       "<polyline clip-path=\"url(#clip02)\" style=\"stroke:#000000; stroke-width:1; stroke-opacity:0.5; fill:none\" stroke-dasharray=\"1, 2\" points=\"\n",
       "  47.6614,7.87402 583.835,7.87402 \n",
       "  \"/>\n",
       "<polyline clip-path=\"url(#clip00)\" style=\"stroke:#000000; stroke-width:1; stroke-opacity:1; fill:none\" points=\"\n",
       "  39.3701,368.504 592.126,368.504 \n",
       "  \"/>\n",
       "<polyline clip-path=\"url(#clip00)\" style=\"stroke:#000000; stroke-width:1; stroke-opacity:1; fill:none\" points=\"\n",
       "  39.3701,368.504 39.3701,363.094 \n",
       "  \"/>\n",
       "<polyline clip-path=\"url(#clip00)\" style=\"stroke:#000000; stroke-width:1; stroke-opacity:1; fill:none\" points=\"\n",
       "  177.559,368.504 177.559,363.094 \n",
       "  \"/>\n",
       "<polyline clip-path=\"url(#clip00)\" style=\"stroke:#000000; stroke-width:1; stroke-opacity:1; fill:none\" points=\"\n",
       "  315.748,368.504 315.748,363.094 \n",
       "  \"/>\n",
       "<polyline clip-path=\"url(#clip00)\" style=\"stroke:#000000; stroke-width:1; stroke-opacity:1; fill:none\" points=\"\n",
       "  453.937,368.504 453.937,363.094 \n",
       "  \"/>\n",
       "<polyline clip-path=\"url(#clip00)\" style=\"stroke:#000000; stroke-width:1; stroke-opacity:1; fill:none\" points=\"\n",
       "  592.126,368.504 592.126,363.094 \n",
       "  \"/>\n",
       "<polyline clip-path=\"url(#clip00)\" style=\"stroke:#000000; stroke-width:1; stroke-opacity:1; fill:none\" points=\"\n",
       "  39.3701,368.504 39.3701,7.87402 \n",
       "  \"/>\n",
       "<polyline clip-path=\"url(#clip00)\" style=\"stroke:#000000; stroke-width:1; stroke-opacity:1; fill:none\" points=\"\n",
       "  39.3701,368.504 47.6614,368.504 \n",
       "  \"/>\n",
       "<polyline clip-path=\"url(#clip00)\" style=\"stroke:#000000; stroke-width:1; stroke-opacity:1; fill:none\" points=\"\n",
       "  39.3701,278.346 47.6614,278.346 \n",
       "  \"/>\n",
       "<polyline clip-path=\"url(#clip00)\" style=\"stroke:#000000; stroke-width:1; stroke-opacity:1; fill:none\" points=\"\n",
       "  39.3701,188.189 47.6614,188.189 \n",
       "  \"/>\n",
       "<polyline clip-path=\"url(#clip00)\" style=\"stroke:#000000; stroke-width:1; stroke-opacity:1; fill:none\" points=\"\n",
       "  39.3701,98.0315 47.6614,98.0315 \n",
       "  \"/>\n",
       "<polyline clip-path=\"url(#clip00)\" style=\"stroke:#000000; stroke-width:1; stroke-opacity:1; fill:none\" points=\"\n",
       "  39.3701,7.87402 47.6614,7.87402 \n",
       "  \"/>\n",
       "<g clip-path=\"url(#clip00)\">\n",
       "<text style=\"fill:#000000; fill-opacity:1; font-family:Arial,Helvetica Neue,Helvetica,sans-serif; font-size:12; text-anchor:middle;\" transform=\"rotate(0, 39.3701, 382.304)\" x=\"39.3701\" y=\"382.304\">-10</text>\n",
       "</g>\n",
       "<g clip-path=\"url(#clip00)\">\n",
       "<text style=\"fill:#000000; fill-opacity:1; font-family:Arial,Helvetica Neue,Helvetica,sans-serif; font-size:12; text-anchor:middle;\" transform=\"rotate(0, 177.559, 382.304)\" x=\"177.559\" y=\"382.304\">-5</text>\n",
       "</g>\n",
       "<g clip-path=\"url(#clip00)\">\n",
       "<text style=\"fill:#000000; fill-opacity:1; font-family:Arial,Helvetica Neue,Helvetica,sans-serif; font-size:12; text-anchor:middle;\" transform=\"rotate(0, 315.748, 382.304)\" x=\"315.748\" y=\"382.304\">0</text>\n",
       "</g>\n",
       "<g clip-path=\"url(#clip00)\">\n",
       "<text style=\"fill:#000000; fill-opacity:1; font-family:Arial,Helvetica Neue,Helvetica,sans-serif; font-size:12; text-anchor:middle;\" transform=\"rotate(0, 453.937, 382.304)\" x=\"453.937\" y=\"382.304\">5</text>\n",
       "</g>\n",
       "<g clip-path=\"url(#clip00)\">\n",
       "<text style=\"fill:#000000; fill-opacity:1; font-family:Arial,Helvetica Neue,Helvetica,sans-serif; font-size:12; text-anchor:middle;\" transform=\"rotate(0, 592.126, 382.304)\" x=\"592.126\" y=\"382.304\">10</text>\n",
       "</g>\n",
       "<g clip-path=\"url(#clip00)\">\n",
       "<text style=\"fill:#000000; fill-opacity:1; font-family:Arial,Helvetica Neue,Helvetica,sans-serif; font-size:12; text-anchor:end;\" transform=\"rotate(0, 33.3701, 373.004)\" x=\"33.3701\" y=\"373.004\">-5.0</text>\n",
       "</g>\n",
       "<g clip-path=\"url(#clip00)\">\n",
       "<text style=\"fill:#000000; fill-opacity:1; font-family:Arial,Helvetica Neue,Helvetica,sans-serif; font-size:12; text-anchor:end;\" transform=\"rotate(0, 33.3701, 282.846)\" x=\"33.3701\" y=\"282.846\">-2.5</text>\n",
       "</g>\n",
       "<g clip-path=\"url(#clip00)\">\n",
       "<text style=\"fill:#000000; fill-opacity:1; font-family:Arial,Helvetica Neue,Helvetica,sans-serif; font-size:12; text-anchor:end;\" transform=\"rotate(0, 33.3701, 192.689)\" x=\"33.3701\" y=\"192.689\">0.0</text>\n",
       "</g>\n",
       "<g clip-path=\"url(#clip00)\">\n",
       "<text style=\"fill:#000000; fill-opacity:1; font-family:Arial,Helvetica Neue,Helvetica,sans-serif; font-size:12; text-anchor:end;\" transform=\"rotate(0, 33.3701, 102.531)\" x=\"33.3701\" y=\"102.531\">2.5</text>\n",
       "</g>\n",
       "<g clip-path=\"url(#clip00)\">\n",
       "<text style=\"fill:#000000; fill-opacity:1; font-family:Arial,Helvetica Neue,Helvetica,sans-serif; font-size:12; text-anchor:end;\" transform=\"rotate(0, 33.3701, 12.374)\" x=\"33.3701\" y=\"12.374\">5.0</text>\n",
       "</g>\n",
       "<g clip-path=\"url(#clip00)\">\n",
       "<text style=\"fill:#000000; fill-opacity:1; font-family:Arial,Helvetica Neue,Helvetica,sans-serif; font-size:21; text-anchor:middle;\" transform=\"rotate(0, 315.748, 18)\" x=\"315.748\" y=\"18\">Return vs lagged return, kernel regression</text>\n",
       "</g>\n",
       "<g clip-path=\"url(#clip00)\">\n",
       "<text style=\"fill:#000000; fill-opacity:1; font-family:Arial,Helvetica Neue,Helvetica,sans-serif; font-size:16; text-anchor:middle;\" transform=\"rotate(0, 315.748, 397.6)\" x=\"315.748\" y=\"397.6\">Lagged return</text>\n",
       "</g>\n",
       "<g clip-path=\"url(#clip00)\">\n",
       "<text style=\"fill:#000000; fill-opacity:1; font-family:Arial,Helvetica Neue,Helvetica,sans-serif; font-size:16; text-anchor:middle;\" transform=\"rotate(-90, 14.4, 188.189)\" x=\"14.4\" y=\"188.189\">Return</text>\n",
       "</g>\n",
       "<polyline clip-path=\"url(#clip02)\" style=\"stroke:#009af9; stroke-width:2; stroke-opacity:1; fill:none\" stroke-dasharray=\"1, 2\" points=\"\n",
       "  39.3701,27.7975 46.2795,29.2942 53.189,31.1939 60.0984,33.6698 67.0079,36.9855 73.9173,41.5115 80.8268,47.6805 87.7362,55.7774 94.6457,65.4904 101.555,75.5318 \n",
       "  108.465,84.2254 115.374,91.1621 122.283,97.9802 129.193,107.205 136.102,120.595 143.012,138.057 149.921,157.195 156.831,173.93 163.74,184.685 170.65,188.724 \n",
       "  177.559,188.182 184.469,186.043 191.378,184.363 198.287,183.809 205.197,184.117 212.106,184.77 219.016,185.416 225.925,185.923 232.835,186.277 239.744,186.498 \n",
       "  246.654,186.62 253.563,186.68 260.472,186.713 267.382,186.742 274.291,186.772 281.201,186.801 288.11,186.825 295.02,186.841 301.929,186.847 308.839,186.841 \n",
       "  315.748,186.821 322.657,186.783 329.567,186.729 336.476,186.66 343.386,186.581 350.295,186.496 357.205,186.398 364.114,186.265 371.024,186.052 377.933,185.7 \n",
       "  384.843,185.155 391.752,184.409 398.661,183.561 405.571,182.878 412.48,182.825 419.39,183.962 426.299,186.677 433.209,190.906 440.118,196.055 447.028,201.142 \n",
       "  453.937,204.994 460.846,206.427 467.756,204.478 474.665,198.742 481.575,189.588 488.484,178.035 495.394,165.371 502.303,152.966 509.213,142.627 516.122,137.408 \n",
       "  523.031,142.259 529.941,162.428 536.85,197.58 543.76,237.605 550.669,269.861 557.579,288.225 564.488,291.984 571.398,282.486 578.307,264.936 585.217,248.124 \n",
       "  592.126,237.057 \n",
       "  \"/>\n",
       "<polyline clip-path=\"url(#clip02)\" style=\"stroke:#e26f46; stroke-width:1; stroke-opacity:1; fill:none\" points=\"\n",
       "  39.3701,55.0307 46.2795,58.8501 53.189,63.2433 60.0984,68.2929 67.0079,74.0805 73.9173,80.6773 80.8268,88.1302 87.7362,96.443 94.6457,105.554 101.555,115.317 \n",
       "  108.465,125.483 115.374,135.709 122.283,145.585 129.193,154.692 136.102,162.675 143.012,169.309 149.921,174.534 156.831,178.44 163.74,181.224 170.65,183.13 \n",
       "  177.559,184.392 184.469,185.21 191.378,185.734 198.287,186.071 205.197,186.291 212.106,186.438 219.016,186.538 225.925,186.61 232.835,186.661 239.744,186.699 \n",
       "  246.654,186.726 253.563,186.746 260.472,186.759 267.382,186.768 274.291,186.772 281.201,186.773 288.11,186.77 295.02,186.764 301.929,186.755 308.839,186.743 \n",
       "  315.748,186.728 322.657,186.709 329.567,186.687 336.476,186.66 343.386,186.628 350.295,186.591 357.205,186.549 364.114,186.5 371.024,186.444 377.933,186.383 \n",
       "  384.843,186.317 391.752,186.249 398.661,186.183 405.571,186.127 412.48,186.091 419.39,186.091 426.299,186.143 433.209,186.267 440.118,186.482 447.028,186.799 \n",
       "  453.937,187.213 460.846,187.697 467.756,188.191 474.665,188.608 481.575,188.842 488.484,188.794 495.394,188.4 502.303,187.667 509.213,186.693 516.122,185.681 \n",
       "  523.031,184.922 529.941,184.774 536.85,185.613 543.76,187.773 550.669,191.453 557.579,196.626 564.488,202.959 571.398,209.809 578.307,216.355 585.217,221.829 \n",
       "  592.126,225.745 \n",
       "  \"/>\n",
       "<polyline clip-path=\"url(#clip02)\" style=\"stroke:#3da44d; stroke-width:2; stroke-opacity:1; fill:none\" stroke-dasharray=\"8, 5\" points=\"\n",
       "  39.3701,173.438 46.2795,175.376 53.189,177.065 60.0984,178.529 67.0079,179.791 73.9173,180.873 80.8268,181.797 87.7362,182.584 94.6457,183.252 101.555,183.816 \n",
       "  108.465,184.292 115.374,184.693 122.283,185.029 129.193,185.311 136.102,185.547 143.012,185.745 149.921,185.909 156.831,186.047 163.74,186.161 170.65,186.256 \n",
       "  177.559,186.335 184.469,186.4 191.378,186.454 198.287,186.499 205.197,186.535 212.106,186.565 219.016,186.59 225.925,186.609 232.835,186.625 239.744,186.638 \n",
       "  246.654,186.647 253.563,186.654 260.472,186.659 267.382,186.663 274.291,186.665 281.201,186.665 288.11,186.665 295.02,186.663 301.929,186.661 308.839,186.658 \n",
       "  315.748,186.654 322.657,186.649 329.567,186.644 336.476,186.639 343.386,186.633 350.295,186.626 357.205,186.62 364.114,186.613 371.024,186.606 377.933,186.598 \n",
       "  384.843,186.591 391.752,186.583 398.661,186.576 405.571,186.569 412.48,186.561 419.39,186.554 426.299,186.548 433.209,186.542 440.118,186.536 447.028,186.532 \n",
       "  453.937,186.528 460.846,186.525 467.756,186.524 474.665,186.525 481.575,186.527 488.484,186.533 495.394,186.541 502.303,186.554 509.213,186.571 516.122,186.594 \n",
       "  523.031,186.624 529.941,186.663 536.85,186.713 543.76,186.778 550.669,186.859 557.579,186.962 564.488,187.092 571.398,187.254 578.307,187.458 585.217,187.711 \n",
       "  592.126,188.024 \n",
       "  \"/>\n",
       "<polygon clip-path=\"url(#clip00)\" points=\"\n",
       "462.096,89.234 574.126,89.234 574.126,28.754 462.096,28.754 \n",
       "  \" fill=\"#ffffff\" fill-opacity=\"1\"/>\n",
       "<polyline clip-path=\"url(#clip00)\" style=\"stroke:#000000; stroke-width:1; stroke-opacity:1; fill:none\" points=\"\n",
       "  462.096,89.234 574.126,89.234 574.126,28.754 462.096,28.754 462.096,89.234 \n",
       "  \"/>\n",
       "<polyline clip-path=\"url(#clip00)\" style=\"stroke:#009af9; stroke-width:2; stroke-opacity:1; fill:none\" stroke-dasharray=\"1, 2\" points=\"\n",
       "  468.096,43.874 504.096,43.874 \n",
       "  \"/>\n",
       "<g clip-path=\"url(#clip00)\">\n",
       "<text style=\"fill:#000000; fill-opacity:1; font-family:Arial,Helvetica Neue,Helvetica,sans-serif; font-size:12; text-anchor:start;\" transform=\"rotate(0, 510.096, 48.374)\" x=\"510.096\" y=\"48.374\">low h</text>\n",
       "</g>\n",
       "<polyline clip-path=\"url(#clip00)\" style=\"stroke:#e26f46; stroke-width:1; stroke-opacity:1; fill:none\" points=\"\n",
       "  468.096,58.994 504.096,58.994 \n",
       "  \"/>\n",
       "<g clip-path=\"url(#clip00)\">\n",
       "<text style=\"fill:#000000; fill-opacity:1; font-family:Arial,Helvetica Neue,Helvetica,sans-serif; font-size:12; text-anchor:start;\" transform=\"rotate(0, 510.096, 63.494)\" x=\"510.096\" y=\"63.494\">medium h</text>\n",
       "</g>\n",
       "<polyline clip-path=\"url(#clip00)\" style=\"stroke:#3da44d; stroke-width:2; stroke-opacity:1; fill:none\" stroke-dasharray=\"8, 5\" points=\"\n",
       "  468.096,74.114 504.096,74.114 \n",
       "  \"/>\n",
       "<g clip-path=\"url(#clip00)\">\n",
       "<text style=\"fill:#000000; fill-opacity:1; font-family:Arial,Helvetica Neue,Helvetica,sans-serif; font-size:12; text-anchor:start;\" transform=\"rotate(0, 510.096, 78.614)\" x=\"510.096\" y=\"78.614\">high h</text>\n",
       "</g>\n",
       "</svg>\n"
      ]
     },
     "execution_count": 5,
     "metadata": {},
     "output_type": "execute_result"
    }
   ],
   "source": [
    "xGrid = collect(-10:0.25:10)\n",
    "h     = 1.5\n",
    "bHat    = KernRegNormalFn(y,x,xGrid,h,1:T)         #baseline choice of h\n",
    "bHatHih = KernRegNormalFn(y,x,xGrid,h*2,1:T)       #high h\n",
    "bHatLoh = KernRegNormalFn(y,x,xGrid,h*0.5,1:T)     #low h\n",
    "\n",
    "\n",
    "ha = plot(xGrid,bHatLoh,line=(:dot,2),label=\"low h\")\n",
    "plot!(xGrid,bHat,label=\"medium h\")\n",
    "plot!(xGrid,bHatHih,line=(:dash,2),label=\"high h\")\n",
    "plot!(xlims=(minimum(xGrid),maximum(xGrid)),ylims=(-5,5))\n",
    "title!(\"Return vs lagged return, kernel regression\")\n",
    "xlabel!(\"Lagged return\")\n",
    "ylabel!(\"Return\")"
   ]
  },
  {
   "cell_type": "markdown",
   "metadata": {
    "deletable": true,
    "editable": true
   },
   "source": [
    "## Rule of Thumb Choice of h\n",
    "\n",
    "Run the regression \n",
    "\n",
    "$\n",
    "y=\\alpha+\\beta x+\\gamma x^{2}+\\varepsilon\n",
    "$\n",
    "\n",
    "and use the following rule-of-thumb choice\n",
    "\n",
    "$\n",
    "h  =T^{-1/5}|\\gamma|^{-2/5}\\sigma_{\\varepsilon}^{2/5}(x_{\\max}-x_{\\min})^{1/5}\\times0.6.\n",
    "$\n",
    "\n",
    "In practice, replace $x_{\\max}-x_{\\min}$ by the difference between the 90th\n",
    "and 10th percentiles of $x$."
   ]
  },
  {
   "cell_type": "code",
   "execution_count": 6,
   "metadata": {
    "collapsed": false,
    "deletable": true,
    "editable": true
   },
   "outputs": [
    {
     "name": "stdout",
     "output_type": "stream",
     "text": [
      "\n",
      "Rule-of-thumb value of h:      0.667\n"
     ]
    }
   ],
   "source": [
    "(b,res,) = OlsFn(y,[x.^2 x ones(T)])             #rule of thumb bandwidth\n",
    "\n",
    "sigma = std(res)\n",
    "gamm  = b[1]\n",
    "xSort = sort(x)\n",
    "x_10  = xSort[floor(Int,T*0.1)]          #crude 10th and 90th percentiles\n",
    "x_90  = xSort[floor(Int,T*0.9)]\n",
    "\n",
    "h_crude = 0.6*sigma^(2/5)*abs(gamm)^(-2/5)*(x_90-x_10)^(1/5)*T^(-1/5)\n",
    "\n",
    "printlnPs(\"\\nRule-of-thumb value of h: \",h_crude)"
   ]
  },
  {
   "cell_type": "markdown",
   "metadata": {
    "deletable": true,
    "editable": true
   },
   "source": [
    "## Cross-Validation (leave-one-out)"
   ]
  },
  {
   "cell_type": "markdown",
   "metadata": {
    "deletable": true,
    "editable": true
   },
   "source": [
    "To do a cross-validation \n",
    "\n",
    "(1) Pick a bandwidth $h$, do the kernel regression\n",
    "but leave out observation $t$ and then record the out-of-sample prediction error $y_{t}-\\hat{b}_{-t}\n",
    "(x_{t},h)$. Notice that this is the error for observation $t$ only. \n",
    "\n",
    "(2) Repeat for all $t=1-T$ to calculate the EPE\n",
    "\n",
    "$\n",
    "\\text{EPE}(h)=\\sum\\nolimits_{t=1}^{T}\\left[  y_{t}-\\hat{b}_{-t}(x_{t},h)\\right]  ^{2}/T,\n",
    "$\n",
    "\n",
    "(3) Finally, redo for several different values of $h$---and pick the one\n",
    "that minimizes EPE$(h)$. "
   ]
  },
  {
   "cell_type": "code",
   "execution_count": 7,
   "metadata": {
    "collapsed": false,
    "deletable": true,
    "editable": true
   },
   "outputs": [
    {
     "name": "stdout",
     "output_type": "stream",
     "text": [
      "\n",
      "Cross-validation calculations take some time\n",
      "h and EPE:\n",
      "     0.167       NaN\n",
      "     0.334     1.314\n",
      "     0.501     1.302\n",
      "     0.667     1.295\n",
      "     1.001     1.288\n",
      "     1.335     1.286\n",
      "     2.002     1.287\n",
      "     2.670     1.291\n",
      "     3.337     1.292\n",
      "     6.674     1.296\n",
      "\n"
     ]
    }
   ],
   "source": [
    "println(\"\\nCross-validation calculations take some time\")\n",
    "\n",
    "hM = h_crude*[0.25 0.5 0.75 1 1.5 2 3 4 5 10]'\n",
    "\n",
    "Nh   = length(hM)\n",
    "EPEM = fill(NaN,(T,Nh))\n",
    "for t = 1:T\n",
    "    v_No_t = setdiff(1:T,t)\n",
    "    for j = 1:Nh\n",
    "        b_t       = KernRegNormalFn(y,x,x[t],hM[j],v_No_t)   #fitted b[x(t)]\n",
    "        EPEM[t,j] = (y[t] - b_t[1])^2\n",
    "    end\n",
    "end\n",
    "EPE = mean(EPEM,1)'\n",
    "println(\"h and EPE:\")\n",
    "printmat([hM EPE])"
   ]
  },
  {
   "cell_type": "code",
   "execution_count": 8,
   "metadata": {
    "collapsed": false,
    "deletable": true,
    "editable": true
   },
   "outputs": [
    {
     "data": {
      "text/html": [
       "<?xml version=\"1.0\" encoding=\"utf-8\"?>\n",
       "<svg xmlns=\"http://www.w3.org/2000/svg\" xmlns:xlink=\"http://www.w3.org/1999/xlink\" width=\"600\" height=\"400\" viewBox=\"0 0 600 400\">\n",
       "<defs>\n",
       "  <clipPath id=\"clip00\">\n",
       "    <rect x=\"0\" y=\"0\" width=\"600\" height=\"400\"/>\n",
       "  </clipPath>\n",
       "</defs>\n",
       "<polygon clip-path=\"url(#clip00)\" points=\"\n",
       "0,400 600,400 600,0 0,0 \n",
       "  \" fill=\"#ffffff\" fill-opacity=\"1\"/>\n",
       "<defs>\n",
       "  <clipPath id=\"clip01\">\n",
       "    <rect x=\"120\" y=\"0\" width=\"421\" height=\"400\"/>\n",
       "  </clipPath>\n",
       "</defs>\n",
       "<polygon clip-path=\"url(#clip00)\" points=\"\n",
       "39.3701,368.504 592.126,368.504 592.126,7.87402 39.3701,7.87402 \n",
       "  \" fill=\"#ffffff\" fill-opacity=\"1\"/>\n",
       "<defs>\n",
       "  <clipPath id=\"clip02\">\n",
       "    <rect x=\"39\" y=\"7\" width=\"554\" height=\"362\"/>\n",
       "  </clipPath>\n",
       "</defs>\n",
       "<polyline clip-path=\"url(#clip02)\" style=\"stroke:#000000; stroke-width:1; stroke-opacity:0.5; fill:none\" stroke-dasharray=\"1, 2\" points=\"\n",
       "  196.915,363.094 196.915,13.2835 \n",
       "  \"/>\n",
       "<polyline clip-path=\"url(#clip02)\" style=\"stroke:#000000; stroke-width:1; stroke-opacity:0.5; fill:none\" stroke-dasharray=\"1, 2\" points=\"\n",
       "  364.236,363.094 364.236,13.2835 \n",
       "  \"/>\n",
       "<polyline clip-path=\"url(#clip02)\" style=\"stroke:#000000; stroke-width:1; stroke-opacity:0.5; fill:none\" stroke-dasharray=\"1, 2\" points=\"\n",
       "  531.556,363.094 531.556,13.2835 \n",
       "  \"/>\n",
       "<polyline clip-path=\"url(#clip02)\" style=\"stroke:#000000; stroke-width:1; stroke-opacity:0.5; fill:none\" stroke-dasharray=\"1, 2\" points=\"\n",
       "  47.6614,368.504 583.835,368.504 \n",
       "  \"/>\n",
       "<polyline clip-path=\"url(#clip02)\" style=\"stroke:#000000; stroke-width:1; stroke-opacity:0.5; fill:none\" stroke-dasharray=\"1, 2\" points=\"\n",
       "  47.6614,265.467 583.835,265.467 \n",
       "  \"/>\n",
       "<polyline clip-path=\"url(#clip02)\" style=\"stroke:#000000; stroke-width:1; stroke-opacity:0.5; fill:none\" stroke-dasharray=\"1, 2\" points=\"\n",
       "  47.6614,162.43 583.835,162.43 \n",
       "  \"/>\n",
       "<polyline clip-path=\"url(#clip02)\" style=\"stroke:#000000; stroke-width:1; stroke-opacity:0.5; fill:none\" stroke-dasharray=\"1, 2\" points=\"\n",
       "  47.6614,59.3926 583.835,59.3926 \n",
       "  \"/>\n",
       "<polyline clip-path=\"url(#clip00)\" style=\"stroke:#000000; stroke-width:1; stroke-opacity:1; fill:none\" points=\"\n",
       "  39.3701,368.504 592.126,368.504 \n",
       "  \"/>\n",
       "<polyline clip-path=\"url(#clip00)\" style=\"stroke:#000000; stroke-width:1; stroke-opacity:1; fill:none\" points=\"\n",
       "  196.915,368.504 196.915,363.094 \n",
       "  \"/>\n",
       "<polyline clip-path=\"url(#clip00)\" style=\"stroke:#000000; stroke-width:1; stroke-opacity:1; fill:none\" points=\"\n",
       "  364.236,368.504 364.236,363.094 \n",
       "  \"/>\n",
       "<polyline clip-path=\"url(#clip00)\" style=\"stroke:#000000; stroke-width:1; stroke-opacity:1; fill:none\" points=\"\n",
       "  531.556,368.504 531.556,363.094 \n",
       "  \"/>\n",
       "<polyline clip-path=\"url(#clip00)\" style=\"stroke:#000000; stroke-width:1; stroke-opacity:1; fill:none\" points=\"\n",
       "  39.3701,368.504 39.3701,7.87402 \n",
       "  \"/>\n",
       "<polyline clip-path=\"url(#clip00)\" style=\"stroke:#000000; stroke-width:1; stroke-opacity:1; fill:none\" points=\"\n",
       "  39.3701,368.504 47.6614,368.504 \n",
       "  \"/>\n",
       "<polyline clip-path=\"url(#clip00)\" style=\"stroke:#000000; stroke-width:1; stroke-opacity:1; fill:none\" points=\"\n",
       "  39.3701,265.467 47.6614,265.467 \n",
       "  \"/>\n",
       "<polyline clip-path=\"url(#clip00)\" style=\"stroke:#000000; stroke-width:1; stroke-opacity:1; fill:none\" points=\"\n",
       "  39.3701,162.43 47.6614,162.43 \n",
       "  \"/>\n",
       "<polyline clip-path=\"url(#clip00)\" style=\"stroke:#000000; stroke-width:1; stroke-opacity:1; fill:none\" points=\"\n",
       "  39.3701,59.3926 47.6614,59.3926 \n",
       "  \"/>\n",
       "<g clip-path=\"url(#clip00)\">\n",
       "<text style=\"fill:#000000; fill-opacity:1; font-family:Arial,Helvetica Neue,Helvetica,sans-serif; font-size:12; text-anchor:middle;\" transform=\"rotate(0, 196.915, 382.304)\" x=\"196.915\" y=\"382.304\">2</text>\n",
       "</g>\n",
       "<g clip-path=\"url(#clip00)\">\n",
       "<text style=\"fill:#000000; fill-opacity:1; font-family:Arial,Helvetica Neue,Helvetica,sans-serif; font-size:12; text-anchor:middle;\" transform=\"rotate(0, 364.236, 382.304)\" x=\"364.236\" y=\"382.304\">4</text>\n",
       "</g>\n",
       "<g clip-path=\"url(#clip00)\">\n",
       "<text style=\"fill:#000000; fill-opacity:1; font-family:Arial,Helvetica Neue,Helvetica,sans-serif; font-size:12; text-anchor:middle;\" transform=\"rotate(0, 531.556, 382.304)\" x=\"531.556\" y=\"382.304\">6</text>\n",
       "</g>\n",
       "<g clip-path=\"url(#clip00)\">\n",
       "<text style=\"fill:#000000; fill-opacity:1; font-family:Arial,Helvetica Neue,Helvetica,sans-serif; font-size:12; text-anchor:end;\" transform=\"rotate(0, 33.3701, 373.004)\" x=\"33.3701\" y=\"373.004\">0.99</text>\n",
       "</g>\n",
       "<g clip-path=\"url(#clip00)\">\n",
       "<text style=\"fill:#000000; fill-opacity:1; font-family:Arial,Helvetica Neue,Helvetica,sans-serif; font-size:12; text-anchor:end;\" transform=\"rotate(0, 33.3701, 269.967)\" x=\"33.3701\" y=\"269.967\">1.00</text>\n",
       "</g>\n",
       "<g clip-path=\"url(#clip00)\">\n",
       "<text style=\"fill:#000000; fill-opacity:1; font-family:Arial,Helvetica Neue,Helvetica,sans-serif; font-size:12; text-anchor:end;\" transform=\"rotate(0, 33.3701, 166.93)\" x=\"33.3701\" y=\"166.93\">1.01</text>\n",
       "</g>\n",
       "<g clip-path=\"url(#clip00)\">\n",
       "<text style=\"fill:#000000; fill-opacity:1; font-family:Arial,Helvetica Neue,Helvetica,sans-serif; font-size:12; text-anchor:end;\" transform=\"rotate(0, 33.3701, 63.8926)\" x=\"33.3701\" y=\"63.8926\">1.02</text>\n",
       "</g>\n",
       "<g clip-path=\"url(#clip00)\">\n",
       "<text style=\"fill:#000000; fill-opacity:1; font-family:Arial,Helvetica Neue,Helvetica,sans-serif; font-size:21; text-anchor:middle;\" transform=\"rotate(0, 315.748, 18)\" x=\"315.748\" y=\"18\">Cross validation simulations, kernel regression</text>\n",
       "</g>\n",
       "<g clip-path=\"url(#clip00)\">\n",
       "<text style=\"fill:#000000; fill-opacity:1; font-family:Arial,Helvetica Neue,Helvetica,sans-serif; font-size:16; text-anchor:middle;\" transform=\"rotate(0, 315.748, 397.6)\" x=\"315.748\" y=\"397.6\">Bandwidth</text>\n",
       "</g>\n",
       "<g clip-path=\"url(#clip00)\">\n",
       "<text style=\"fill:#000000; fill-opacity:1; font-family:Arial,Helvetica Neue,Helvetica,sans-serif; font-size:16; text-anchor:middle;\" transform=\"rotate(-90, 14.4, 188.189)\" x=\"14.4\" y=\"188.189\">EPE/minimum(EPE)</text>\n",
       "</g>\n",
       "<polyline clip-path=\"url(#clip02)\" style=\"stroke:#009af9; stroke-width:1; stroke-opacity:1; fill:none\" points=\"\n",
       "  57.5118,40.4923 71.4705,131.706 85.4292,192.906 113.347,243.2 141.264,265.467 197.099,252.772 252.934,225.067 308.769,215.07 587.943,180.633 \n",
       "  \"/>\n",
       "</svg>\n"
      ]
     },
     "execution_count": 8,
     "metadata": {},
     "output_type": "execute_result"
    }
   ],
   "source": [
    "ha = plot(hM,EPE/minimum(excise(EPE)),legend=false)\n",
    "plot!(xlims=(minimum(hM)-0.05,maximum(hM)+0.05),ylims= (0.99,1.025))\n",
    "title!(\"Cross validation simulations, kernel regression\")\n",
    "xlabel!(\"Bandwidth\")\n",
    "ylabel!(\"EPE/minimum(EPE)\")"
   ]
  },
  {
   "cell_type": "code",
   "execution_count": null,
   "metadata": {
    "collapsed": true,
    "deletable": true,
    "editable": true
   },
   "outputs": [],
   "source": []
  }
 ],
 "metadata": {
  "anaconda-cloud": {},
  "kernelspec": {
   "display_name": "Julia 0.6.0",
   "language": "julia",
   "name": "julia-0.6"
  },
  "language_info": {
   "file_extension": ".jl",
   "mimetype": "application/julia",
   "name": "julia",
   "version": "0.6.0"
  }
 },
 "nbformat": 4,
 "nbformat_minor": 1
}
