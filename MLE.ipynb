{
 "cells": [
  {
   "cell_type": "markdown",
   "metadata": {},
   "source": [
    "# Maximum Likelihood Estimation\n",
    "\n",
    "This notebook illustrates how maximum likelihood works and how to estimate different standard errors (form the information matrix, the gradients and the \"sandwich\" approach).\n",
    "\n",
    "The application is very basic: how to estimate the mean and variance of a series."
   ]
  },
  {
   "cell_type": "markdown",
   "metadata": {},
   "source": [
    "## Loading Packages"
   ]
  },
  {
   "cell_type": "code",
   "execution_count": 1,
   "metadata": {},
   "outputs": [
    {
     "data": {
      "text/plain": [
       "printlnPs (generic function with 2 methods)"
      ]
     },
     "execution_count": 1,
     "metadata": {},
     "output_type": "execute_result"
    }
   ],
   "source": [
    "using Dates, LinearAlgebra, DelimitedFiles, Statistics, Optim, ForwardDiff\n",
    "\n",
    "include(\"jlFiles/printmat.jl\")"
   ]
  },
  {
   "cell_type": "markdown",
   "metadata": {},
   "source": [
    "## Loading Data"
   ]
  },
  {
   "cell_type": "code",
   "execution_count": 2,
   "metadata": {},
   "outputs": [],
   "source": [
    "xx  = readdlm(\"Data/FFdSizePs.csv\",',',skipstart=1)\n",
    "ymd = round.(Int,xx[:,1])     #YearMonthDay, like 20121231\n",
    "x   = xx[:,2]                 #returns for the smallest size portfolio\n",
    "xx  = nothing"
   ]
  },
  {
   "cell_type": "markdown",
   "metadata": {},
   "source": [
    "## Traditional Estimates\n",
    "\n",
    "of the mean $\\mu$ and the variance $\\sigma^2$.\n",
    "\n",
    "To compare with the MLE, we use $1/T$ in variance estimate, not $1/(T-1)$."
   ]
  },
  {
   "cell_type": "code",
   "execution_count": 3,
   "metadata": {},
   "outputs": [
    {
     "name": "stdout",
     "output_type": "stream",
     "text": [
      "Traditional estimates and std\n",
      "  estimate      std\n",
      "     0.042     0.010\n",
      "     0.840     0.013\n",
      "\n"
     ]
    }
   ],
   "source": [
    "T = length(x)\n",
    "\n",
    "(μ_trad,σ²_trad) = (mean(x),var(x,corrected=false))\n",
    "\n",
    "std_parTrad = sqrt.([σ²_trad,2*σ²_trad^2]/T)          #textbook formulas\n",
    "\n",
    "println(\"Traditional estimates and std\")\n",
    "println(\"  estimate      std\")\n",
    "printmat([[μ_trad,σ²_trad] std_parTrad])"
   ]
  },
  {
   "cell_type": "markdown",
   "metadata": {},
   "source": [
    "## The Likelihood Function for Estimating the Parameters of a N(,)"
   ]
  },
  {
   "cell_type": "code",
   "execution_count": 4,
   "metadata": {},
   "outputs": [
    {
     "data": {
      "text/plain": [
       "NormalLL (generic function with 1 method)"
      ]
     },
     "execution_count": 4,
     "metadata": {},
     "output_type": "execute_result"
    }
   ],
   "source": [
    "function NormalLL(par::Vector,x)\n",
    "  (μ,σ²) = par\n",
    "  LL    = -(1/2)*log(2*pi) .- (1/2)*log.(σ²) .- (1/2)*(x.-μ).^2/σ²\n",
    "  loss  = -sum(LL)    #to minimize this\n",
    "  return loss, LL\n",
    "end"
   ]
  },
  {
   "cell_type": "markdown",
   "metadata": {},
   "source": [
    "## Try the Likelihood Function"
   ]
  },
  {
   "cell_type": "code",
   "execution_count": 5,
   "metadata": {},
   "outputs": [
    {
     "name": "stdout",
     "output_type": "stream",
     "text": [
      "LL value at par0: -11142.004572304257\n"
     ]
    }
   ],
   "source": [
    "par0 = [mean(x)+0.1,var(x)+0.05]         #initial parameter guess\n",
    "\n",
    "(loss,LL) = NormalLL(par0,x)             #testing the log likelihood fn\n",
    "\n",
    "println(\"LL value at par0: \",-loss)"
   ]
  },
  {
   "cell_type": "markdown",
   "metadata": {},
   "source": [
    "## Optimize the Likelihood Function"
   ]
  },
  {
   "cell_type": "code",
   "execution_count": 6,
   "metadata": {},
   "outputs": [
    {
     "name": "stdout",
     "output_type": "stream",
     "text": [
      "Value of log-likelihood fn at estimate: -11088.409\n",
      "\n",
      "Parameter estimates: \n",
      "      MLE      Traditional\n",
      "     0.042     0.042\n",
      "     0.840     0.840\n",
      "\n"
     ]
    }
   ],
   "source": [
    "Sol = optimize(par->NormalLL(par,x)[1],par0)  #minimize -sum(LL)\n",
    "\n",
    "parHat = Optim.minimizer(Sol)                 #the optimal solution \n",
    "\n",
    "printlnPs(\"Value of log-likelihood fn at estimate: \",-Optim.minimum(Sol))\n",
    "\n",
    "println(\"\\nParameter estimates: \")\n",
    "println(\"      MLE      Traditional\")\n",
    "printmat([parHat [μ_trad,σ²_trad]])"
   ]
  },
  {
   "cell_type": "markdown",
   "metadata": {},
   "source": [
    "## Standard Errors\n",
    "\n",
    "If the likelihood function is correctely specified, then MLE is typically asymptotically normally distributed as\n",
    "\n",
    "$\n",
    "\\sqrt{T}(\\hat{\\theta}-\\theta)  \\rightarrow^{d}N(0,V) \\: \\text{, where } \\: V=I(\\theta)^{-1}\\text{ with }\n",
    "$\n",
    "\n",
    "$\n",
    "I(\\theta) =-\\text{E}\\frac{\\partial^{2}\\ln L_t}{\\partial\\theta\\partial\\theta^{\\prime}}\n",
    "$\n",
    "\n",
    "where $I(\\theta)$ is the information matrix and $\\ln L_t$  is the contribution of period $t$ to the likelihood function.\n",
    "\n",
    "The code below calculates numerical derivatives.  \n",
    "\n",
    "\n",
    "Alternatively, we can use the outer product of the gradients to calculate the\n",
    "information matrix as\n",
    "\n",
    "$\n",
    "J(\\theta)=\\text{E}\\left[  \\frac{\\partial\\ln L_t}{\\partial\\theta\n",
    "}\\frac{\\partial\\ln L_t}{\\partial\\theta^{\\prime}}\\right]\n",
    "$\n",
    "\n",
    "We could also use the \"sandwich\" estimator\n",
    "\n",
    "$\n",
    "V=I(\\theta)^{-1}J(\\theta)I(\\theta)^{-1}.\n",
    "$"
   ]
  },
  {
   "cell_type": "markdown",
   "metadata": {},
   "source": [
    "### Std from Hessian (Information Matrix)"
   ]
  },
  {
   "cell_type": "code",
   "execution_count": 7,
   "metadata": {},
   "outputs": [
    {
     "name": "stdout",
     "output_type": "stream",
     "text": [
      "std from Hessian and traditional\n",
      "     0.010     0.010\n",
      "     0.013     0.013\n",
      "\n"
     ]
    }
   ],
   "source": [
    "Ia         = -ForwardDiff.hessian(par->mean(NormalLL(par,x)[2]),parHat)\n",
    "Ia         = (Ia+Ia')/2              #to guarantee symmetry\n",
    "vcv        = inv(Ia)/T\n",
    "std_parHat = sqrt.(diag(vcv))\n",
    "\n",
    "println(\"std from Hessian and traditional\")\n",
    "printmat([std_parHat std_parTrad])"
   ]
  },
  {
   "cell_type": "markdown",
   "metadata": {},
   "source": [
    "### Std from Gradient and Sandwich"
   ]
  },
  {
   "cell_type": "code",
   "execution_count": 8,
   "metadata": {},
   "outputs": [
    {
     "name": "stdout",
     "output_type": "stream",
     "text": [
      "\n",
      "4 different standard errors\n",
      "    hessian  gradient  sandwich  traditional\n",
      "     0.010     0.010     0.010     0.010\n",
      "     0.013     0.005     0.036     0.013\n",
      "\n"
     ]
    }
   ],
   "source": [
    "LLgrad = ForwardDiff.jacobian(par->NormalLL(par,x)[2],parHat)   #T x 2 matrix\n",
    "J           = LLgrad'LLgrad/T\n",
    "vcv         = inv(J)/T\n",
    "stdb_parHat = sqrt.(diag(vcv))                          #std from gradients\n",
    "\n",
    "vcv         = inv(Ia) * J * inv(Ia)/T\n",
    "stdc_parHat = sqrt.(diag(vcv))                          #std from sandwich\n",
    "\n",
    "println(\"\\n4 different standard errors\")\n",
    "println(\"    hessian  gradient  sandwich  traditional\")\n",
    "printmat([std_parHat stdb_parHat stdc_parHat std_parTrad])"
   ]
  },
  {
   "cell_type": "markdown",
   "metadata": {},
   "source": [
    "When data is non-iidN(), then the sandwich estimate may differ from the information-based estimate."
   ]
  },
  {
   "cell_type": "code",
   "execution_count": null,
   "metadata": {},
   "outputs": [],
   "source": []
  }
 ],
 "metadata": {
  "anaconda-cloud": {},
  "kernelspec": {
   "display_name": "Julia 1.0.1",
   "language": "julia",
   "name": "julia-1.0"
  },
  "language_info": {
   "file_extension": ".jl",
   "mimetype": "application/julia",
   "name": "julia",
   "version": "1.0.1"
  }
 },
 "nbformat": 4,
 "nbformat_minor": 1
}
